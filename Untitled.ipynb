{
 "cells": [
  {
   "cell_type": "code",
   "execution_count": 19,
   "id": "7cc90932",
   "metadata": {},
   "outputs": [],
   "source": [
    "import tensorflow as tf\n",
    "import core.utils as utils\n",
    "from tensorflow.python.saved_model import tag_constants\n",
    "import cv2\n",
    "import numpy as np\n",
    "import openpyxl \n",
    "from datetime import date\n",
    "import os #모듈 import \n",
    "\n",
    "os.environ['TF_CPP_MIN_LOG_LEVEL'] = '3' #enable 오류\n",
    "MODEL_PATH = './checkpoints/yolov4-416' # 모델 기본 위치\n",
    "IOU_THRESHOLD = 0.45  # 한계점 설정\n",
    "SCORE_THRESHOLD = 0.70 # 최소 점수 만족\n",
    "INPUT_SIZE = 416 #사진 크기\n",
    "\n",
    "# load model\n",
    "saved_model_loaded = tf.saved_model.load(MODEL_PATH, tags=[tag_constants.SERVING]) # 학습된 모델 부르기\n",
    "infer = saved_model_loaded.signatures['serving_default'] #시그니쳐 키 설정\n",
    "\n",
    "img_path = './data/central.jpg'\n"
   ]
  },
  {
   "cell_type": "code",
   "execution_count": 20,
   "id": "8d94c425",
   "metadata": {},
   "outputs": [],
   "source": [
    "\n",
    "img = cv2.imread(img_path) # img road\n",
    "img = cv2.cvtColor(img, cv2.COLOR_BGR2RGB) # bgr 형식 rgb로 convert\n",
    "\n",
    "img_input = cv2.resize(img, (INPUT_SIZE, INPUT_SIZE)) # 크기 재설정\n",
    "img_input = img_input / 255. # 크기 재설정\n",
    "img_input = img_input[np.newaxis, ...].astype(np.float32) # 축 설정\n",
    "img_input = tf.constant(img_input) # numpy를 tf 로 변환\n",
    "\n",
    "pred_bbox = infer(img_input) #  모델에 img 추가\n",
    "\n",
    "wb = openpyxl.Workbook()\n",
    "wb.active.title = \"bounding_boxes\" #excel file 설정\n",
    "wsheet = wb[\"bounding_boxes\"]\n",
    "tday = date.today()\n",
    "tday_w = tday.strftime('%Y-%b-%d-%A')\n",
    "\n",
    "for key, value in pred_bbox.items():\n",
    "    boxes = value[:, :, 0:4]\n",
    "    pred_conf = value[:, :, 4:]\n",
    "\n",
    "boxes, scores, classes, valid_detections = tf.image.combined_non_max_suppression( #nms 진행 \n",
    "    boxes=tf.reshape(boxes, (tf.shape(boxes)[0], -1, 1, 4)),\n",
    "    scores=tf.reshape(\n",
    "        pred_conf, (tf.shape(pred_conf)[0], -1, tf.shape(pred_conf)[-1])),\n",
    "    max_output_size_per_class=50,\n",
    "    max_total_size=50,\n",
    "    iou_threshold=IOU_THRESHOLD,\n",
    "    score_threshold=SCORE_THRESHOLD\n",
    ")\n",
    "#iou, score 넘는 애들만 체크 \n",
    "\n",
    "\n"
   ]
  },
  {
   "cell_type": "code",
   "execution_count": 21,
   "id": "b686e8a8",
   "metadata": {},
   "outputs": [
    {
     "ename": "ValueError",
     "evalue": "too many values to unpack (expected 2)",
     "output_type": "error",
     "traceback": [
      "\u001b[1;31m---------------------------------------------------------------------------\u001b[0m",
      "\u001b[1;31mValueError\u001b[0m                                Traceback (most recent call last)",
      "\u001b[1;32m<ipython-input-21-a6728fbec59d>\u001b[0m in \u001b[0;36m<module>\u001b[1;34m\u001b[0m\n\u001b[0;32m      1\u001b[0m \u001b[0mpred_bbox\u001b[0m \u001b[1;33m=\u001b[0m \u001b[1;33m[\u001b[0m\u001b[0mboxes\u001b[0m\u001b[1;33m.\u001b[0m\u001b[0mnumpy\u001b[0m\u001b[1;33m(\u001b[0m\u001b[1;33m)\u001b[0m\u001b[1;33m,\u001b[0m \u001b[0mscores\u001b[0m\u001b[1;33m.\u001b[0m\u001b[0mnumpy\u001b[0m\u001b[1;33m(\u001b[0m\u001b[1;33m)\u001b[0m\u001b[1;33m,\u001b[0m \u001b[0mclasses\u001b[0m\u001b[1;33m.\u001b[0m\u001b[0mnumpy\u001b[0m\u001b[1;33m(\u001b[0m\u001b[1;33m)\u001b[0m\u001b[1;33m,\u001b[0m \u001b[0mvalid_detections\u001b[0m\u001b[1;33m.\u001b[0m\u001b[0mnumpy\u001b[0m\u001b[1;33m(\u001b[0m\u001b[1;33m)\u001b[0m\u001b[1;33m]\u001b[0m\u001b[1;33m\u001b[0m\u001b[1;33m\u001b[0m\u001b[0m\n\u001b[1;32m----> 2\u001b[1;33m \u001b[0mresult\u001b[0m\u001b[1;33m,\u001b[0m\u001b[0mresult_exc\u001b[0m \u001b[1;33m=\u001b[0m \u001b[0mutils\u001b[0m\u001b[1;33m.\u001b[0m\u001b[0mdraw_bbox\u001b[0m\u001b[1;33m(\u001b[0m\u001b[0mimg\u001b[0m\u001b[1;33m,\u001b[0m \u001b[0mpred_bbox\u001b[0m\u001b[1;33m)\u001b[0m \u001b[1;31m#바운딩 박스 추가\u001b[0m\u001b[1;33m\u001b[0m\u001b[1;33m\u001b[0m\u001b[0m\n\u001b[0m\u001b[0;32m      3\u001b[0m \u001b[1;31m#for i in range(0,len(pred_bbox[0][0])):\u001b[0m\u001b[1;33m\u001b[0m\u001b[1;33m\u001b[0m\u001b[1;33m\u001b[0m\u001b[0m\n\u001b[0;32m      4\u001b[0m  \u001b[1;31m#       for j in range(0,len(pred_bbox)):\u001b[0m\u001b[1;33m\u001b[0m\u001b[1;33m\u001b[0m\u001b[1;33m\u001b[0m\u001b[0m\n\u001b[0;32m      5\u001b[0m             \u001b[1;31m#wsheet.cell(i+1,j+1).value = (pred_bbox[j][i])\u001b[0m\u001b[1;33m\u001b[0m\u001b[1;33m\u001b[0m\u001b[1;33m\u001b[0m\u001b[0m\n",
      "\u001b[1;31mValueError\u001b[0m: too many values to unpack (expected 2)"
     ]
    }
   ],
   "source": [
    "pred_bbox = [boxes.numpy(), scores.numpy(), classes.numpy(), valid_detections.numpy()]\n",
    "result,result_exc = utils.draw_bbox(img, pred_bbox) #바운딩 박스 추가\n",
    "#for i in range(0,len(pred_bbox[0][0])):\n",
    " #       for j in range(0,len(pred_bbox)):\n",
    "            #wsheet.cell(i+1,j+1).value = (pred_bbox[j][i])\n"
   ]
  },
  {
   "cell_type": "code",
   "execution_count": 15,
   "id": "9b09a761",
   "metadata": {},
   "outputs": [],
   "source": [
    "result = cv2.cvtColor(np.array(result), cv2.COLOR_RGB2BGR) # 재변환\n",
    "cv2.imwrite('res.png', result) # 사진 저장\n",
    "new_ex_file = './excel/result_excel'+\"(\"+tday_w+\")\"+'.xlsx'\n",
    "wb.save(new_ex_file)"
   ]
  },
  {
   "cell_type": "code",
   "execution_count": 17,
   "id": "f995daa4",
   "metadata": {},
   "outputs": [
    {
     "name": "stdout",
     "output_type": "stream",
     "text": [
      "[[[ 43  67  49]\n",
      "  [ 35  59  41]\n",
      "  [ 37  61  43]\n",
      "  ...\n",
      "  [  9  82  56]\n",
      "  [ 39 100  74]\n",
      "  [ 43 101  73]]\n",
      "\n",
      " [[ 30  54  36]\n",
      "  [ 37  61  43]\n",
      "  [ 44  68  50]\n",
      "  ...\n",
      "  [ 29 107  83]\n",
      "  [ 28  90  66]\n",
      "  [ 18  75  50]]\n",
      "\n",
      " [[ 37  59  41]\n",
      "  [ 48  70  52]\n",
      "  [ 56  78  60]\n",
      "  ...\n",
      "  [ 27 118  93]\n",
      "  [ 24  89  67]\n",
      "  [  0  56  33]]\n",
      "\n",
      " ...\n",
      "\n",
      " [[ 43 107  88]\n",
      "  [ 35  98  82]\n",
      "  [ 27  92  77]\n",
      "  ...\n",
      "  [ 73 152 149]\n",
      "  [ 53 130 127]\n",
      "  [ 56 133 130]]\n",
      "\n",
      " [[ 22  81  66]\n",
      "  [ 15  74  59]\n",
      "  [ 35  96  82]\n",
      "  ...\n",
      "  [ 68 148 147]\n",
      "  [ 73 153 152]\n",
      "  [ 83 163 162]]\n",
      "\n",
      " [[  2  59  44]\n",
      "  [  0  46  31]\n",
      "  [ 15  74  60]\n",
      "  ...\n",
      "  [ 66 149 147]\n",
      "  [ 82 165 163]\n",
      "  [ 69 152 150]]]\n"
     ]
    }
   ],
   "source": [
    "print(result)"
   ]
  },
  {
   "cell_type": "code",
   "execution_count": null,
   "id": "512b3bdd",
   "metadata": {},
   "outputs": [],
   "source": []
  }
 ],
 "metadata": {
  "kernelspec": {
   "display_name": "Python 3",
   "language": "python",
   "name": "python3"
  },
  "language_info": {
   "codemirror_mode": {
    "name": "ipython",
    "version": 3
   },
   "file_extension": ".py",
   "mimetype": "text/x-python",
   "name": "python",
   "nbconvert_exporter": "python",
   "pygments_lexer": "ipython3",
   "version": "3.6.13"
  }
 },
 "nbformat": 4,
 "nbformat_minor": 5
}
