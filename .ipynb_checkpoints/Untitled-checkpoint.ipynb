{
 "cells": [
  {
   "cell_type": "code",
   "execution_count": 1,
   "id": "7cc90932",
   "metadata": {},
   "outputs": [],
   "source": [
    "import tensorflow as tf\n",
    "import core.utils as utils\n",
    "from tensorflow.python.saved_model import tag_constants\n",
    "import cv2\n",
    "import numpy as np\n",
    "import openpyxl \n",
    "from datetime import date\n",
    "import os #모듈 import \n",
    "\n",
    "os.environ['TF_CPP_MIN_LOG_LEVEL'] = '3' #enable 오류\n",
    "MODEL_PATH = './checkpoints/yolov4-416' # 모델 기본 위치\n",
    "IOU_THRESHOLD = 0.45  # 한계점 설정\n",
    "SCORE_THRESHOLD = 0.40 # 최소 점수 만족\n",
    "INPUT_SIZE = 416 #사진 크기\n",
    "\n",
    "# load model\n",
    "saved_model_loaded = tf.saved_model.load(MODEL_PATH, tags=[tag_constants.SERVING]) # 학습된 모델 부르기\n",
    "infer = saved_model_loaded.signatures['serving_default'] #시그니쳐 키 설정\n",
    "\n",
    "img_path = './data/central.jpg'\n"
   ]
  },
  {
   "cell_type": "code",
   "execution_count": 2,
   "id": "8d94c425",
   "metadata": {},
   "outputs": [],
   "source": [
    "\n",
    "img = cv2.imread(img_path) # img road\n",
    "img = cv2.cvtColor(img, cv2.COLOR_BGR2RGB) # bgr 형식 rgb로 convert\n",
    "\n",
    "img_input = cv2.resize(img, (INPUT_SIZE, INPUT_SIZE)) # 크기 재설정\n",
    "img_input = img_input / 255. # 크기 재설정\n",
    "img_input = img_input[np.newaxis, ...].astype(np.float32) # 축 설정\n",
    "img_input = tf.constant(img_input) # numpy를 tf 로 변환\n",
    "\n",
    "pred_bbox = infer(img_input) #  모델에 img 추가\n",
    "\n",
    "wb = openpyxl.Workbook()\n",
    "wb.active.title = \"bounding_boxes\" #excel file 설정\n",
    "wsheet = wb[\"bounding_boxes\"]\n",
    "tday = date.today()\n",
    "tday_w = tday.strftime('%Y-%b-%d-%A')\n",
    "\n",
    "for key, value in pred_bbox.items():\n",
    "    boxes = value[:, :, 0:4]\n",
    "    pred_conf = value[:, :, 4:]\n",
    "\n",
    "boxes, scores, classes, valid_detections = tf.image.combined_non_max_suppression( #nms 진행 \n",
    "    boxes=tf.reshape(boxes, (tf.shape(boxes)[0], -1, 1, 4)),\n",
    "    scores=tf.reshape(\n",
    "        pred_conf, (tf.shape(pred_conf)[0], -1, tf.shape(pred_conf)[-1])),\n",
    "    max_output_size_per_class=50,\n",
    "    max_total_size=50,\n",
    "    iou_threshold=IOU_THRESHOLD,\n",
    "    score_threshold=SCORE_THRESHOLD\n",
    ")\n",
    "#iou, score 넘는 애들만 체크 \n",
    "\n",
    "\n"
   ]
  },
  {
   "cell_type": "code",
   "execution_count": 14,
   "id": "b686e8a8",
   "metadata": {},
   "outputs": [
    {
     "ename": "TypeError",
     "evalue": "'int' object is not iterable",
     "output_type": "error",
     "traceback": [
      "\u001b[1;31m---------------------------------------------------------------------------\u001b[0m",
      "\u001b[1;31mTypeError\u001b[0m                                 Traceback (most recent call last)",
      "\u001b[1;32m<ipython-input-14-0657a3248b4f>\u001b[0m in \u001b[0;36m<module>\u001b[1;34m\u001b[0m\n\u001b[0;32m      1\u001b[0m \u001b[0mpred_bbox\u001b[0m \u001b[1;33m=\u001b[0m \u001b[1;33m[\u001b[0m\u001b[0mboxes\u001b[0m\u001b[1;33m.\u001b[0m\u001b[0mnumpy\u001b[0m\u001b[1;33m(\u001b[0m\u001b[1;33m)\u001b[0m\u001b[1;33m,\u001b[0m \u001b[0mscores\u001b[0m\u001b[1;33m.\u001b[0m\u001b[0mnumpy\u001b[0m\u001b[1;33m(\u001b[0m\u001b[1;33m)\u001b[0m\u001b[1;33m,\u001b[0m \u001b[0mclasses\u001b[0m\u001b[1;33m.\u001b[0m\u001b[0mnumpy\u001b[0m\u001b[1;33m(\u001b[0m\u001b[1;33m)\u001b[0m\u001b[1;33m,\u001b[0m \u001b[0mvalid_detections\u001b[0m\u001b[1;33m.\u001b[0m\u001b[0mnumpy\u001b[0m\u001b[1;33m(\u001b[0m\u001b[1;33m)\u001b[0m\u001b[1;33m]\u001b[0m\u001b[1;33m\u001b[0m\u001b[1;33m\u001b[0m\u001b[0m\n\u001b[0;32m      2\u001b[0m \u001b[0mresult\u001b[0m \u001b[1;33m=\u001b[0m \u001b[0mutils\u001b[0m\u001b[1;33m.\u001b[0m\u001b[0mdraw_bbox\u001b[0m\u001b[1;33m(\u001b[0m\u001b[0mimg\u001b[0m\u001b[1;33m,\u001b[0m \u001b[0mpred_bbox\u001b[0m\u001b[1;33m)\u001b[0m \u001b[1;31m#바운딩 박스 추가\u001b[0m\u001b[1;33m\u001b[0m\u001b[1;33m\u001b[0m\u001b[0m\n\u001b[1;32m----> 3\u001b[1;33m \u001b[1;32mfor\u001b[0m \u001b[0mi\u001b[0m \u001b[1;32min\u001b[0m \u001b[0mlen\u001b[0m\u001b[1;33m(\u001b[0m\u001b[0mpred_bbox\u001b[0m\u001b[1;33m[\u001b[0m\u001b[1;36m0\u001b[0m\u001b[1;33m]\u001b[0m\u001b[1;33m[\u001b[0m\u001b[1;36m0\u001b[0m\u001b[1;33m]\u001b[0m\u001b[1;33m)\u001b[0m\u001b[1;33m:\u001b[0m\u001b[1;33m\u001b[0m\u001b[1;33m\u001b[0m\u001b[0m\n\u001b[0m\u001b[0;32m      4\u001b[0m         \u001b[1;32mfor\u001b[0m \u001b[0mj\u001b[0m \u001b[1;32min\u001b[0m \u001b[0mlen\u001b[0m\u001b[1;33m(\u001b[0m\u001b[0mpred_bbox\u001b[0m\u001b[1;33m)\u001b[0m\u001b[1;33m:\u001b[0m\u001b[1;33m\u001b[0m\u001b[1;33m\u001b[0m\u001b[0m\n\u001b[0;32m      5\u001b[0m             \u001b[0mwsheet\u001b[0m\u001b[1;33m.\u001b[0m\u001b[0mcell\u001b[0m\u001b[1;33m(\u001b[0m\u001b[0mi\u001b[0m\u001b[1;33m+\u001b[0m\u001b[1;36m1\u001b[0m\u001b[1;33m,\u001b[0m\u001b[0mj\u001b[0m\u001b[1;33m+\u001b[0m\u001b[1;36m1\u001b[0m\u001b[1;33m)\u001b[0m\u001b[1;33m.\u001b[0m\u001b[0mvalue\u001b[0m \u001b[1;33m=\u001b[0m \u001b[0mpred_bbox\u001b[0m\u001b[1;33m[\u001b[0m\u001b[0mj\u001b[0m\u001b[1;33m]\u001b[0m\u001b[1;33m[\u001b[0m\u001b[0mi\u001b[0m\u001b[1;33m]\u001b[0m\u001b[1;33m\u001b[0m\u001b[1;33m\u001b[0m\u001b[0m\n",
      "\u001b[1;31mTypeError\u001b[0m: 'int' object is not iterable"
     ]
    }
   ],
   "source": [
    "pred_bbox = [boxes.numpy(), scores.numpy(), classes.numpy(), valid_detections.numpy()]\n",
    "result = utils.draw_bbox(img, pred_bbox) #바운딩 박스 추가\n",
    "for i in range(0,len(pred_bbox[0][0])):\n",
    "        for j in range(0,len(pred_bbox)):\n",
    "            wsheet.cell(i+1,j+1).value = pred_bbox[j][i]\n",
    "result = cv2.cvtColor(np.array(result), cv2.COLOR_RGB2BGR) # 재변환\n",
    "cv2.imwrite('res.png', result) # 사진 저장\n",
    "new_ex_file = './excel/result_excel'+\"(\"+tday_w+\")\"+'.xlsx'\n",
    "wb.save(new_ex_file)"
   ]
  },
  {
   "cell_type": "code",
   "execution_count": 13,
   "id": "9b09a761",
   "metadata": {},
   "outputs": [
    {
     "data": {
      "text/plain": [
       "4"
      ]
     },
     "execution_count": 13,
     "metadata": {},
     "output_type": "execute_result"
    }
   ],
   "source": [
    "len(pred_bbox)"
   ]
  },
  {
   "cell_type": "code",
   "execution_count": null,
   "id": "a4698cef",
   "metadata": {},
   "outputs": [],
   "source": []
  }
 ],
 "metadata": {
  "kernelspec": {
   "display_name": "Python 3",
   "language": "python",
   "name": "python3"
  },
  "language_info": {
   "codemirror_mode": {
    "name": "ipython",
    "version": 3
   },
   "file_extension": ".py",
   "mimetype": "text/x-python",
   "name": "python",
   "nbconvert_exporter": "python",
   "pygments_lexer": "ipython3",
   "version": "3.6.13"
  }
 },
 "nbformat": 4,
 "nbformat_minor": 5
}
